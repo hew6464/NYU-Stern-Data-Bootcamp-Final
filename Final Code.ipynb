{
 "cells": [
  {
   "cell_type": "markdown",
   "id": "7fe44a18-5a95-4035-beab-4bafb8af07c9",
   "metadata": {},
   "source": [
    "# Data Bootcamp Final - Code\n",
    "#### Ahana Kaura - ak6962\n",
    "#### Amelie Srinivas - as15387 \n",
    "#### Harrison Woods - hew6464"
   ]
  }
 ],
 "metadata": {
  "kernelspec": {
   "display_name": "Python 3 (ipykernel)",
   "language": "python",
   "name": "python3"
  },
  "language_info": {
   "codemirror_mode": {
    "name": "ipython",
    "version": 3
   },
   "file_extension": ".py",
   "mimetype": "text/x-python",
   "name": "python",
   "nbconvert_exporter": "python",
   "pygments_lexer": "ipython3",
   "version": "3.9.13"
  }
 },
 "nbformat": 4,
 "nbformat_minor": 5
}
